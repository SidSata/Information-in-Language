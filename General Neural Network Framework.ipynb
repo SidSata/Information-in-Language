{
 "cells": [
  {
   "cell_type": "code",
   "execution_count": 2,
   "metadata": {},
   "outputs": [],
   "source": [
    "import torch\n",
    "import torch.nn as nn\n",
    "import numpy as np\n",
    "from IPython.display import clear_output, display"
   ]
  },
  {
   "cell_type": "markdown",
   "metadata": {},
   "source": [
    "A general neural network suite of functions and classes that can create, train and validate a neural net. "
   ]
  },
  {
   "cell_type": "markdown",
   "metadata": {},
   "source": [
    "### Network Implementation"
   ]
  },
  {
   "cell_type": "code",
   "execution_count": 3,
   "metadata": {},
   "outputs": [],
   "source": [
    "class Neural_Network(nn.Module):\n",
    "    def __init__(self, inputSize, outputSize, hiddenSize, learning_rate):\n",
    "        super(Neural_Network, self).__init__()\n",
    "        '''\n",
    "        Params\n",
    "        ------\n",
    "        inputSize : int\n",
    "            Size of input layer\n",
    "        outputSize : int\n",
    "            Size of output layer\n",
    "        hiddenSize : 1D list of ints\n",
    "            Size of each hidden layer\n",
    "        learning_rate : float\n",
    "            Learning rate\n",
    "        '''\n",
    "        self.inputSize = inputSize\n",
    "        self.outputSize = outputSize\n",
    "        self.hiddenSize = hiddenSize\n",
    "        self.learning_rate = learning_rate\n",
    "        # weights\n",
    "        self.weights = [torch.randn(self.inputSize, self.hiddenSize[0]).float()]\n",
    "        self.biases = []\n",
    "        for i in range(len(self.hiddenSize)):\n",
    "            if i < len(self.hiddenSize) - 1:\n",
    "                self.weights.append(torch.randn(self.hiddenSize[i], self.hiddenSize[i + 1]).float())\n",
    "            elif i == len(self.hiddenSize) - 1:\n",
    "                self.weights.append(torch.randn(self.hiddenSize[i], self.outputSize).float())\n",
    "            self.biases.append(torch.randn(self.hiddenSize[i], 1).float().T)\n",
    "        self.biases.append(torch.randn(self.outputSize, 1).float().T)  \n",
    "        \n",
    "        \n",
    "    def forward(self, X):\n",
    "        self.z_arr = [X]\n",
    "        self.z = X\n",
    "        for i in range(len(self.weights)):\n",
    "            self.z = torch.matmul(self.z, self.weights[i])\n",
    "            self.z = self.z + self.biases[i] \n",
    "            self.z = self.sigmoid(self.z) # activation function\n",
    "            self.z_arr.append(self.z)\n",
    "        return self.z\n",
    "        \n",
    "    def sigmoid(self, s):\n",
    "        return 1 / (1 + torch.exp(-s))\n",
    "    \n",
    "    def sigmoidPrime(self, s):\n",
    "        # derivative of sigmoid\n",
    "        return s * (1 - s)\n",
    "    \n",
    "    def backward(self, X, y):\n",
    "        self.error = y - self.z_arr[-1] # error in output\n",
    "        self.delta = self.error * self.sigmoidPrime(self.z_arr[-1]) # derivative of sig to error \n",
    "        for i in range(len(self.weights)):  \n",
    "            print(i)\n",
    "            self.weights[-i-1] = self.weights[-i-1] + torch.matmul(torch.t(self.z_arr[-i-2]), self.delta) * self.learning_rate\n",
    "            self.biases[-i-1] = self.biases[-i-1] + torch.matmul(torch.from_numpy(np.ones(self.z_arr[-i-2].size()[0])).float().T, self.delta)* self.learning_rate\n",
    "            self.error = torch.matmul(self.delta, torch.t(self.weights[-i-1]))\n",
    "            self.delta = self.error * self.sigmoidPrime(self.z_arr[-i-2])\n",
    "        \n",
    "        \n",
    "    def train(self, X, y):\n",
    "        # forward + backward pass for training\n",
    "        o = self.forward(X)\n",
    "        self.backward(X, y)\n",
    "        \n",
    "    def saveWeights(self, model):\n",
    "        # we will use the PyTorch internal storage functions\n",
    "        torch.save(model, \"NN\")\n",
    "        # you can reload model with all the weights and so forth with:\n",
    "        # torch.load(\"NN\")\n",
    "        \n",
    "    def predict(self, inp):\n",
    "        return self.forward(inp)"
   ]
  },
  {
   "cell_type": "markdown",
   "metadata": {},
   "source": [
    "### Creating and Training the Network"
   ]
  },
  {
   "cell_type": "code",
   "execution_count": null,
   "metadata": {},
   "outputs": [],
   "source": [
    "X = ... #Inputs for training data\n",
    "y = ... #Outputs for training data\n",
    "num_iters = ... #Number of iterations to train\n",
    "NN = Neural_Network(..., ..., ..., ...) #Specify input parameters to network\n",
    "for i in range(num_iters):  # trains the NN\n",
    "    clear_output(wait=True)\n",
    "    print (\"#\" + str(i) + \" Loss: \" + str(torch.mean((y - NN(X))**2).detach().item()))  #print mean sum squared loss\n",
    "    NN.train(X, y)\n",
    "NN.saveWeights(NN)\n"
   ]
  },
  {
   "cell_type": "markdown",
   "metadata": {},
   "source": [
    "### Validation"
   ]
  },
  {
   "cell_type": "code",
   "execution_count": null,
   "metadata": {},
   "outputs": [],
   "source": [
    "inputs = ... #Array of the inputs for the neural net to predict outputs on\n",
    "out = ... #Validation set outputs\n",
    "pred_out = NN.predict(inputs) #Predicted outputs"
   ]
  }
 ],
 "metadata": {
  "kernelspec": {
   "display_name": "Python 3",
   "language": "python",
   "name": "python3"
  },
  "language_info": {
   "codemirror_mode": {
    "name": "ipython",
    "version": 3
   },
   "file_extension": ".py",
   "mimetype": "text/x-python",
   "name": "python",
   "nbconvert_exporter": "python",
   "pygments_lexer": "ipython3",
   "version": "3.7.3"
  }
 },
 "nbformat": 4,
 "nbformat_minor": 2
}

{
 "cells": [
  {
   "cell_type": "code",
   "execution_count": 119,
   "metadata": {},
   "outputs": [],
   "source": [
    "import sys\n",
    "import math\n",
    "import numpy as np\n",
    "sys.path.insert(0, '..')\n",
    "from net_framework import *\n",
    "from sklearn.model_selection import train_test_split\n",
    "import pandas as pd\n",
    "import matplotlib.pyplot as plt\n",
    "import random\n",
    "import json"
   ]
  },
  {
   "cell_type": "code",
   "execution_count": 120,
   "metadata": {},
   "outputs": [
    {
     "data": {
      "text/html": [
       "<div>\n",
       "<style scoped>\n",
       "    .dataframe tbody tr th:only-of-type {\n",
       "        vertical-align: middle;\n",
       "    }\n",
       "\n",
       "    .dataframe tbody tr th {\n",
       "        vertical-align: top;\n",
       "    }\n",
       "\n",
       "    .dataframe thead th {\n",
       "        text-align: right;\n",
       "    }\n",
       "</style>\n",
       "<table border=\"1\" class=\"dataframe\">\n",
       "  <thead>\n",
       "    <tr style=\"text-align: right;\">\n",
       "      <th></th>\n",
       "      <th>#Lnum</th>\n",
       "      <th>#snum</th>\n",
       "      <th>#cnum</th>\n",
       "      <th>Term Abbrev</th>\n",
       "    </tr>\n",
       "  </thead>\n",
       "  <tbody>\n",
       "    <tr>\n",
       "      <th>0</th>\n",
       "      <td>1</td>\n",
       "      <td>1</td>\n",
       "      <td>1</td>\n",
       "      <td>LB</td>\n",
       "    </tr>\n",
       "    <tr>\n",
       "      <th>1</th>\n",
       "      <td>1</td>\n",
       "      <td>1</td>\n",
       "      <td>2</td>\n",
       "      <td>LB</td>\n",
       "    </tr>\n",
       "    <tr>\n",
       "      <th>2</th>\n",
       "      <td>1</td>\n",
       "      <td>1</td>\n",
       "      <td>3</td>\n",
       "      <td>LE</td>\n",
       "    </tr>\n",
       "    <tr>\n",
       "      <th>3</th>\n",
       "      <td>1</td>\n",
       "      <td>1</td>\n",
       "      <td>4</td>\n",
       "      <td>WK</td>\n",
       "    </tr>\n",
       "    <tr>\n",
       "      <th>4</th>\n",
       "      <td>1</td>\n",
       "      <td>1</td>\n",
       "      <td>5</td>\n",
       "      <td>LF</td>\n",
       "    </tr>\n",
       "  </tbody>\n",
       "</table>\n",
       "</div>"
      ],
      "text/plain": [
       "   #Lnum  #snum  #cnum Term Abbrev\n",
       "0      1      1      1          LB\n",
       "1      1      1      2          LB\n",
       "2      1      1      3          LE\n",
       "3      1      1      4          WK\n",
       "4      1      1      5          LF"
      ]
     },
     "execution_count": 120,
     "metadata": {},
     "output_type": "execute_result"
    }
   ],
   "source": [
    "term_data = pd.read_csv('term.txt', sep=\"\\t\", header=None)\n",
    "term_data.columns = [\"#Lnum\", \"#snum\", \"#cnum\", \"Term Abbrev\"]\n",
    "term_data.head()"
   ]
  },
  {
   "cell_type": "code",
   "execution_count": 121,
   "metadata": {},
   "outputs": [
    {
     "name": "stderr",
     "output_type": "stream",
     "text": [
      "<ipython-input-121-f811cbef4bec>:3: SettingWithCopyWarning: \n",
      "A value is trying to be set on a copy of a slice from a DataFrame.\n",
      "Try using .loc[row_indexer,col_indexer] = value instead\n",
      "\n",
      "See the caveats in the documentation: https://pandas.pydata.org/pandas-docs/stable/user_guide/indexing.html#returning-a-view-versus-a-copy\n",
      "  locations['Normalized-L'] = (cnum_data['L*'] - cnum_data['L*'].mean())/(cnum_data['L*'] - cnum_data['L*'].mean()).max()\n",
      "<ipython-input-121-f811cbef4bec>:4: SettingWithCopyWarning: \n",
      "A value is trying to be set on a copy of a slice from a DataFrame.\n",
      "Try using .loc[row_indexer,col_indexer] = value instead\n",
      "\n",
      "See the caveats in the documentation: https://pandas.pydata.org/pandas-docs/stable/user_guide/indexing.html#returning-a-view-versus-a-copy\n",
      "  locations['Normalized-a'] = (cnum_data['a*'] - cnum_data['a*'].mean())/(cnum_data['a*'] - cnum_data['a*'].mean()).std() * 1/2\n",
      "<ipython-input-121-f811cbef4bec>:5: SettingWithCopyWarning: \n",
      "A value is trying to be set on a copy of a slice from a DataFrame.\n",
      "Try using .loc[row_indexer,col_indexer] = value instead\n",
      "\n",
      "See the caveats in the documentation: https://pandas.pydata.org/pandas-docs/stable/user_guide/indexing.html#returning-a-view-versus-a-copy\n",
      "  locations['Normalized-b'] = (cnum_data['b*'] - cnum_data['b*'].mean())/(cnum_data['b*'] - cnum_data['b*'].mean()).std() * 1/2\n"
     ]
    },
    {
     "data": {
      "text/html": [
       "<div>\n",
       "<style scoped>\n",
       "    .dataframe tbody tr th:only-of-type {\n",
       "        vertical-align: middle;\n",
       "    }\n",
       "\n",
       "    .dataframe tbody tr th {\n",
       "        vertical-align: top;\n",
       "    }\n",
       "\n",
       "    .dataframe thead th {\n",
       "        text-align: right;\n",
       "    }\n",
       "</style>\n",
       "<table border=\"1\" class=\"dataframe\">\n",
       "  <thead>\n",
       "    <tr style=\"text-align: right;\">\n",
       "      <th></th>\n",
       "      <th>#cnum</th>\n",
       "      <th>Normalized-L</th>\n",
       "      <th>Normalized-a</th>\n",
       "      <th>Normalized-b</th>\n",
       "    </tr>\n",
       "  </thead>\n",
       "  <tbody>\n",
       "    <tr>\n",
       "      <th>0</th>\n",
       "      <td>141</td>\n",
       "      <td>1.000000</td>\n",
       "      <td>-0.025675</td>\n",
       "      <td>-0.138822</td>\n",
       "    </tr>\n",
       "    <tr>\n",
       "      <th>1</th>\n",
       "      <td>274</td>\n",
       "      <td>0.876301</td>\n",
       "      <td>-0.025504</td>\n",
       "      <td>-0.138822</td>\n",
       "    </tr>\n",
       "    <tr>\n",
       "      <th>2</th>\n",
       "      <td>129</td>\n",
       "      <td>0.876301</td>\n",
       "      <td>0.070445</td>\n",
       "      <td>-0.106039</td>\n",
       "    </tr>\n",
       "    <tr>\n",
       "      <th>3</th>\n",
       "      <td>230</td>\n",
       "      <td>0.876301</td>\n",
       "      <td>0.070101</td>\n",
       "      <td>-0.089951</td>\n",
       "    </tr>\n",
       "    <tr>\n",
       "      <th>4</th>\n",
       "      <td>302</td>\n",
       "      <td>0.876301</td>\n",
       "      <td>0.070617</td>\n",
       "      <td>-0.072041</td>\n",
       "    </tr>\n",
       "  </tbody>\n",
       "</table>\n",
       "</div>"
      ],
      "text/plain": [
       "   #cnum  Normalized-L  Normalized-a  Normalized-b\n",
       "0    141      1.000000     -0.025675     -0.138822\n",
       "1    274      0.876301     -0.025504     -0.138822\n",
       "2    129      0.876301      0.070445     -0.106039\n",
       "3    230      0.876301      0.070101     -0.089951\n",
       "4    302      0.876301      0.070617     -0.072041"
      ]
     },
     "metadata": {},
     "output_type": "display_data"
    }
   ],
   "source": [
    "cnum_data = pd.read_csv('cnum-vhcm-lab-new.txt', sep=\"\\t\")\n",
    "locations = cnum_data[['#cnum']]\n",
    "locations['Normalized-L'] = (cnum_data['L*'] - cnum_data['L*'].mean())/(cnum_data['L*'] - cnum_data['L*'].mean()).max()\n",
    "locations['Normalized-a'] = (cnum_data['a*'] - cnum_data['a*'].mean())/(cnum_data['a*'] - cnum_data['a*'].mean()).std() * 1/2\n",
    "locations['Normalized-b'] = (cnum_data['b*'] - cnum_data['b*'].mean())/(cnum_data['b*'] - cnum_data['b*'].mean()).std() * 1/2\n",
    "display(locations.head(5))"
   ]
  },
  {
   "cell_type": "code",
   "execution_count": 122,
   "metadata": {},
   "outputs": [
    {
     "name": "stdout",
     "output_type": "stream",
     "text": [
      "[1, 2, 3, 4, 5, 6, 7, 8, 9, 10, 11, 12, 13, 14, 15, 16, 17, 18, 19, 20, 21, 22, 23, 24, 25, 26, 27, 28, 29, 30, 31, 32, 33, 34, 35, 36, 37, 38, 39, 40, 41, 42, 43, 44, 45, 46, 47, 48, 49, 50, 51, 52, 53, 54, 55, 56, 57, 58, 59, 60, 61, 62, 63, 64, 65, 66, 67, 68, 69, 70, 71, 72, 73, 74, 75, 76, 77, 78, 79, 80, 81, 82, 83, 84, 85, 86, 87, 88, 89, 90, 91, 92, 93, 94, 95, 96, 97, 98, 99, 100, 101, 102, 103, 104, 105, 106, 107, 108, 109, 110, 111, 112, 113, 114, 115, 116, 117, 118, 119, 120, 121, 122, 123, 124, 125, 126, 127, 128, 129, 130, 131, 132, 133, 134, 135, 136, 137, 138, 139, 140, 141, 142, 143, 144, 145, 146, 147, 148, 149, 150, 151, 152, 153, 154, 155, 156, 157, 158, 159, 160, 161, 162, 163, 164, 165, 166, 167, 168, 169, 170, 171, 172, 173, 174, 175, 176, 177, 178, 179, 180, 181, 182, 183, 184, 185, 186, 187, 188, 189, 190, 191, 192, 193, 194, 195, 196, 197, 198, 199, 200, 201, 202, 203, 204, 205, 206, 207, 208, 209, 210, 211, 212, 213, 214, 215, 216, 217, 218, 219, 220, 221, 222, 223, 224, 225, 226, 227, 228, 229, 230, 231, 232, 233, 234, 235, 236, 237, 238, 239, 240, 241, 242, 243, 244, 245, 246, 247, 248, 249, 250, 251, 252, 253, 254, 255, 256, 257, 258, 259, 260, 261, 262, 263, 264, 265, 266, 267, 268, 269, 270, 271, 272, 273, 274, 275, 276, 277, 278, 279, 280, 281, 282, 283, 284, 285, 286, 287, 288, 289, 290, 291, 292, 293, 294, 295, 296, 297, 298, 299, 300, 301, 302, 303, 304, 305, 306, 307, 308, 309, 310, 311, 312, 313, 314, 315, 316, 317, 318, 319, 320, 321, 322, 323, 324, 325, 326, 327, 328, 329, 330]\n"
     ]
    }
   ],
   "source": [
    "locations = locations.sort_values('#cnum')\n",
    "chip_num = list(locations['#cnum'])\n",
    "lab_norm = [[row[2], row[3], row[4]] for row in locations.itertuples()]\n",
    "print(chip_num)"
   ]
  },
  {
   "cell_type": "code",
   "execution_count": 123,
   "metadata": {},
   "outputs": [],
   "source": [
    "l1 = term_data[term_data.get('#Lnum').eq(1)]\n",
    "unique_symbols = list(l1['Term Abbrev'].unique())\n",
    "l1_grouped = l1.groupby('#cnum')['Term Abbrev'].apply(list)\n",
    "l1_chip_abbrev_percentage = [[(l1_grouped[i + 1].count(abbrev) / len(l1_grouped[i + 1])) for abbrev in unique_symbols] for i in range(len(l1_grouped))]"
   ]
  },
  {
   "cell_type": "code",
   "execution_count": 124,
   "metadata": {},
   "outputs": [
    {
     "name": "stdout",
     "output_type": "stream",
     "text": [
      "         LB    LE    WK    LF     F     G     S   GB    FU\n",
      "#cnum                                                     \n",
      "1      0.36  0.00  0.00  0.04  0.08  0.52  0.00  0.0  0.00\n",
      "2      0.12  0.00  0.04  0.12  0.60  0.04  0.00  0.0  0.08\n",
      "3      0.00  0.96  0.04  0.00  0.00  0.00  0.00  0.0  0.00\n",
      "4      0.28  0.00  0.40  0.00  0.08  0.04  0.20  0.0  0.00\n",
      "5      0.04  0.00  0.00  0.20  0.68  0.08  0.00  0.0  0.00\n",
      "...     ...   ...   ...   ...   ...   ...   ...  ...   ...\n",
      "326    0.08  0.20  0.36  0.00  0.20  0.00  0.12  0.0  0.04\n",
      "327    0.04  0.00  0.00  0.68  0.20  0.04  0.04  0.0  0.00\n",
      "328    0.64  0.00  0.08  0.00  0.00  0.20  0.08  0.0  0.00\n",
      "329    0.08  0.08  0.40  0.00  0.12  0.00  0.28  0.0  0.04\n",
      "330    0.04  0.00  0.00  0.72  0.24  0.00  0.00  0.0  0.00\n",
      "\n",
      "[330 rows x 9 columns]\n"
     ]
    }
   ],
   "source": [
    "l1_result = pd.DataFrame(l1_chip_abbrev_percentage)\n",
    "l1_result.index += 1\n",
    "l1_result.index.name = '#cnum'\n",
    "l1_result.columns = unique_symbols\n",
    "print(l1_result)\n",
    "chip_norm = []\n",
    "#pull the percentage for each cnum\n",
    "for x in chip_num:\n",
    "    chip_norm.append((l1_result.loc[l1[\"#cnum\"]==x]).values.tolist()[0])"
   ]
  },
  {
   "cell_type": "code",
   "execution_count": 125,
   "metadata": {},
   "outputs": [],
   "source": [
    "node_num = range(10, 130, 10)\n",
    "layer_num = range(1,6)\n",
    "def mirror(arr, desired_length):\n",
    "    if arr == [4,4,4]:\n",
    "        print(\"this\")\n",
    "    if desired_length/len(arr) == 2:\n",
    "        return arr + arr[::-1]\n",
    "    else:\n",
    "        return arr[:-1] + arr[::-1]\n",
    "\n",
    "shape_collection = []\n",
    "for node in node_num:\n",
    "    for layer in layer_num:\n",
    "        shape = []\n",
    "        # it gets stuck on this particular one for some reason\n",
    "        if node == 20 and layer == 5:\n",
    "            shape = [4,4,4,4,4]\n",
    "        if node//layer < 3:\n",
    "            continue\n",
    "        elif layer%2 == 0:\n",
    "            # you are not leaving until you give me the right number\n",
    "            while sum(shape) != node/2:\n",
    "                shape = []\n",
    "                # let the code randomly assign things that add up to what we want\n",
    "                for l in range (0,int(layer/2)) :\n",
    "                    shape.append(int(random.uniform(3,node+1)))\n",
    "            \n",
    "            shape = mirror(shape, layer)\n",
    "            shape_collection.append(shape)\n",
    "        else:\n",
    "            while sum(shape) != node:\n",
    "                shape = []\n",
    "                # similar logic, but we let it mirror itself first\n",
    "                for l in range (0,(layer//2) + 1) :\n",
    "                    shape.append(int(random.uniform(3,node+1)))\n",
    "                    shape = mirror(shape, layer)\n",
    "                    \n",
    "            shape_collection.append(shape)"
   ]
  },
  {
   "cell_type": "code",
   "execution_count": 126,
   "metadata": {},
   "outputs": [],
   "source": [
    "#Number of training iterations\n",
    "num_iters = 500\n",
    "\n",
    "#Listing out the shapes of each model\n",
    "colors_num = len(chip_norm[0])\n",
    "input_size = 3\n",
    "\n",
    "network_shapes = []\n",
    "for s in shape_collection:\n",
    "    network_shapes.append((input_size,s,colors_num))\n",
    "\n",
    "#Learning rate of the network\n",
    "rate = 0.001\n",
    "\n",
    "#Generating Training Data\n",
    "input_train, output_train, input_test, output_test = 0, 0, 0, 0\n",
    "def shuffle():\n",
    "    lab_train, lab_test, chip_train, chip_test = train_test_split(lab_norm, chip_norm, test_size=0.1, random_state = 3, shuffle = True)\n",
    "    #test run on whole dataset\n",
    "    #lab_train, lab_test = lab_norm, lab_norm\n",
    "    #chip_train, chip_test = chip_norm, chip_norm\n",
    "    \n",
    "    global input_train, output_train, input_test, output_test\n",
    "    input_train = torch.FloatTensor(lab_train)\n",
    "    output_train = torch.FloatTensor(chip_train)\n",
    "    input_test= torch.FloatTensor(lab_test)\n",
    "    output_test = torch.FloatTensor(chip_test)\n"
   ]
  },
  {
   "cell_type": "code",
   "execution_count": 127,
   "metadata": {},
   "outputs": [
    {
     "name": "stdout",
     "output_type": "stream",
     "text": [
      "(3, [10], 9)\n",
      "Network Shape:\n",
      "Input Size = 3\n",
      "Hidden Size = [10]\n",
      "Output Size = 9\n"
     ]
    },
    {
     "data": {
      "text/plain": [
       "'#499 Error: 0.09922836720943451'"
      ]
     },
     "metadata": {},
     "output_type": "display_data"
    },
    {
     "name": "stdout",
     "output_type": "stream",
     "text": [
      "(3, [5, 5], 9)\n",
      "Network Shape:\n",
      "Input Size = 3\n",
      "Hidden Size = [5, 5]\n",
      "Output Size = 9\n"
     ]
    },
    {
     "data": {
      "text/plain": [
       "'#499 Error: 0.10106920450925827'"
      ]
     },
     "metadata": {},
     "output_type": "display_data"
    },
    {
     "name": "stdout",
     "output_type": "stream",
     "text": [
      "(3, [3, 4, 3], 9)\n",
      "Network Shape:\n",
      "Input Size = 3\n",
      "Hidden Size = [3, 4, 3]\n",
      "Output Size = 9\n"
     ]
    },
    {
     "data": {
      "text/plain": [
       "'#499 Error: 0.10651864111423492'"
      ]
     },
     "metadata": {},
     "output_type": "display_data"
    },
    {
     "name": "stdout",
     "output_type": "stream",
     "text": [
      "(3, [20], 9)\n",
      "Network Shape:\n",
      "Input Size = 3\n",
      "Hidden Size = [20]\n",
      "Output Size = 9\n"
     ]
    },
    {
     "data": {
      "text/plain": [
       "'#499 Error: 0.07668958604335785'"
      ]
     },
     "metadata": {},
     "output_type": "display_data"
    },
    {
     "name": "stdout",
     "output_type": "stream",
     "text": [
      "(3, [10, 10], 9)\n",
      "Network Shape:\n",
      "Input Size = 3\n",
      "Hidden Size = [10, 10]\n",
      "Output Size = 9\n"
     ]
    },
    {
     "data": {
      "text/plain": [
       "'#499 Error: 0.07074525952339172'"
      ]
     },
     "metadata": {},
     "output_type": "display_data"
    },
    {
     "name": "stdout",
     "output_type": "stream",
     "text": [
      "(3, [4, 12, 4], 9)\n",
      "Network Shape:\n",
      "Input Size = 3\n",
      "Hidden Size = [4, 12, 4]\n",
      "Output Size = 9\n"
     ]
    },
    {
     "data": {
      "text/plain": [
       "'#499 Error: 0.08448087424039841'"
      ]
     },
     "metadata": {},
     "output_type": "display_data"
    },
    {
     "name": "stdout",
     "output_type": "stream",
     "text": [
      "(3, [5, 5, 5, 5], 9)\n",
      "Network Shape:\n",
      "Input Size = 3\n",
      "Hidden Size = [5, 5, 5, 5]\n",
      "Output Size = 9\n"
     ]
    },
    {
     "data": {
      "text/plain": [
       "'#499 Error: 0.09342434257268906'"
      ]
     },
     "metadata": {},
     "output_type": "display_data"
    },
    {
     "name": "stdout",
     "output_type": "stream",
     "text": [
      "(3, [4, 4, 4, 4, 4], 9)\n",
      "Network Shape:\n",
      "Input Size = 3\n",
      "Hidden Size = [4, 4, 4, 4, 4]\n",
      "Output Size = 9\n"
     ]
    },
    {
     "data": {
      "text/plain": [
       "'#499 Error: 0.10332370549440384'"
      ]
     },
     "metadata": {},
     "output_type": "display_data"
    },
    {
     "name": "stdout",
     "output_type": "stream",
     "text": [
      "(3, [30], 9)\n",
      "Network Shape:\n",
      "Input Size = 3\n",
      "Hidden Size = [30]\n",
      "Output Size = 9\n"
     ]
    },
    {
     "data": {
      "text/plain": [
       "'#499 Error: 0.061643607914447784'"
      ]
     },
     "metadata": {},
     "output_type": "display_data"
    },
    {
     "name": "stdout",
     "output_type": "stream",
     "text": [
      "(3, [15, 15], 9)\n",
      "Network Shape:\n",
      "Input Size = 3\n",
      "Hidden Size = [15, 15]\n",
      "Output Size = 9\n"
     ]
    },
    {
     "data": {
      "text/plain": [
       "'#499 Error: 0.049762941896915436'"
      ]
     },
     "metadata": {},
     "output_type": "display_data"
    },
    {
     "name": "stdout",
     "output_type": "stream",
     "text": [
      "(3, [10, 10, 10], 9)\n",
      "Network Shape:\n",
      "Input Size = 3\n",
      "Hidden Size = [10, 10, 10]\n",
      "Output Size = 9\n"
     ]
    },
    {
     "data": {
      "text/plain": [
       "'#499 Error: 0.056583963334560394'"
      ]
     },
     "metadata": {},
     "output_type": "display_data"
    },
    {
     "name": "stdout",
     "output_type": "stream",
     "text": [
      "(3, [12, 3, 3, 12], 9)\n",
      "Network Shape:\n",
      "Input Size = 3\n",
      "Hidden Size = [12, 3, 3, 12]\n",
      "Output Size = 9\n"
     ]
    },
    {
     "data": {
      "text/plain": [
       "'#499 Error: 0.07772471010684967'"
      ]
     },
     "metadata": {},
     "output_type": "display_data"
    },
    {
     "name": "stdout",
     "output_type": "stream",
     "text": [
      "(3, [4, 5, 4, 4, 4, 5, 4], 9)\n",
      "Network Shape:\n",
      "Input Size = 3\n",
      "Hidden Size = [4, 5, 4, 4, 4, 5, 4]\n",
      "Output Size = 9\n"
     ]
    },
    {
     "data": {
      "text/plain": [
       "'#499 Error: 0.10593655705451965'"
      ]
     },
     "metadata": {},
     "output_type": "display_data"
    },
    {
     "name": "stdout",
     "output_type": "stream",
     "text": [
      "(3, [40], 9)\n",
      "Network Shape:\n",
      "Input Size = 3\n",
      "Hidden Size = [40]\n",
      "Output Size = 9\n"
     ]
    },
    {
     "data": {
      "text/plain": [
       "'#499 Error: 0.05087483674287796'"
      ]
     },
     "metadata": {},
     "output_type": "display_data"
    },
    {
     "name": "stdout",
     "output_type": "stream",
     "text": [
      "(3, [20, 20], 9)\n",
      "Network Shape:\n",
      "Input Size = 3\n",
      "Hidden Size = [20, 20]\n",
      "Output Size = 9\n"
     ]
    },
    {
     "data": {
      "text/plain": [
       "'#499 Error: 0.034057650715112686'"
      ]
     },
     "metadata": {},
     "output_type": "display_data"
    },
    {
     "name": "stdout",
     "output_type": "stream",
     "text": [
      "(3, [12, 16, 12], 9)\n",
      "Network Shape:\n",
      "Input Size = 3\n",
      "Hidden Size = [12, 16, 12]\n",
      "Output Size = 9\n"
     ]
    },
    {
     "data": {
      "text/plain": [
       "'#499 Error: 0.041778601706027985'"
      ]
     },
     "metadata": {},
     "output_type": "display_data"
    },
    {
     "name": "stdout",
     "output_type": "stream",
     "text": [
      "(3, [4, 16, 16, 4], 9)\n",
      "Network Shape:\n",
      "Input Size = 3\n",
      "Hidden Size = [4, 16, 16, 4]\n",
      "Output Size = 9\n"
     ]
    },
    {
     "data": {
      "text/plain": [
       "'#499 Error: 0.08622614294290543'"
      ]
     },
     "metadata": {},
     "output_type": "display_data"
    },
    {
     "name": "stdout",
     "output_type": "stream",
     "text": [
      "(3, [5, 7, 5, 6, 5, 7, 5], 9)\n",
      "Network Shape:\n",
      "Input Size = 3\n",
      "Hidden Size = [5, 7, 5, 6, 5, 7, 5]\n",
      "Output Size = 9\n"
     ]
    },
    {
     "data": {
      "text/plain": [
       "'#499 Error: 0.09590970724821091'"
      ]
     },
     "metadata": {},
     "output_type": "display_data"
    },
    {
     "name": "stdout",
     "output_type": "stream",
     "text": [
      "(3, [50], 9)\n",
      "Network Shape:\n",
      "Input Size = 3\n",
      "Hidden Size = [50]\n",
      "Output Size = 9\n"
     ]
    },
    {
     "data": {
      "text/plain": [
       "'#277 Error: 0.04093925654888153'"
      ]
     },
     "metadata": {},
     "output_type": "display_data"
    },
    {
     "name": "stdout",
     "output_type": "stream",
     "text": [
      "(3, [20, 10, 20], 9)\n",
      "Network Shape:\n",
      "Input Size = 3\n",
      "Hidden Size = [20, 10, 20]\n",
      "Output Size = 9\n"
     ]
    },
    {
     "data": {
      "text/plain": [
       "'#499 Error: 0.036624975502491'"
      ]
     },
     "metadata": {},
     "output_type": "display_data"
    },
    {
     "name": "stdout",
     "output_type": "stream",
     "text": [
      "(3, [11, 14, 14, 11], 9)\n",
      "Network Shape:\n",
      "Input Size = 3\n",
      "Hidden Size = [11, 14, 14, 11]\n",
      "Output Size = 9\n"
     ]
    },
    {
     "data": {
      "text/plain": [
       "'#499 Error: 0.05057745799422264'"
      ]
     },
     "metadata": {},
     "output_type": "display_data"
    },
    {
     "name": "stdout",
     "output_type": "stream",
     "text": [
      "(3, [8, 6, 8, 6, 8, 6, 8], 9)\n",
      "Network Shape:\n",
      "Input Size = 3\n",
      "Hidden Size = [8, 6, 8, 6, 8, 6, 8]\n",
      "Output Size = 9\n"
     ]
    },
    {
     "data": {
      "text/plain": [
       "'#499 Error: 0.08249058574438095'"
      ]
     },
     "metadata": {},
     "output_type": "display_data"
    },
    {
     "name": "stdout",
     "output_type": "stream",
     "text": [
      "(3, [60], 9)\n",
      "Network Shape:\n",
      "Input Size = 3\n",
      "Hidden Size = [60]\n",
      "Output Size = 9\n"
     ]
    },
    {
     "data": {
      "text/plain": [
       "'#499 Error: 0.0323551781475544'"
      ]
     },
     "metadata": {},
     "output_type": "display_data"
    },
    {
     "name": "stdout",
     "output_type": "stream",
     "text": [
      "(3, [30, 30], 9)\n",
      "Network Shape:\n",
      "Input Size = 3\n",
      "Hidden Size = [30, 30]\n",
      "Output Size = 9\n"
     ]
    },
    {
     "data": {
      "text/plain": [
       "'#499 Error: 0.014281211420893669'"
      ]
     },
     "metadata": {},
     "output_type": "display_data"
    },
    {
     "name": "stdout",
     "output_type": "stream",
     "text": [
      "(3, [3, 54, 3], 9)\n",
      "Network Shape:\n",
      "Input Size = 3\n",
      "Hidden Size = [3, 54, 3]\n",
      "Output Size = 9\n"
     ]
    },
    {
     "data": {
      "text/plain": [
       "'#180 Error: 0.08636658638715744'"
      ]
     },
     "metadata": {},
     "output_type": "display_data"
    },
    {
     "name": "stderr",
     "output_type": "stream",
     "text": [
      "IOPub message rate exceeded.\n",
      "The notebook server will temporarily stop sending output\n",
      "to the client in order to avoid crashing it.\n",
      "To change this limit, set the config variable\n",
      "`--NotebookApp.iopub_msg_rate_limit`.\n",
      "\n",
      "Current values:\n",
      "NotebookApp.iopub_msg_rate_limit=1000.0 (msgs/sec)\n",
      "NotebookApp.rate_limit_window=3.0 (secs)\n",
      "\n"
     ]
    },
    {
     "name": "stdout",
     "output_type": "stream",
     "text": [
      "(3, [9, 7, 9, 20, 9, 7, 9], 9)\n",
      "Network Shape:\n",
      "Input Size = 3\n",
      "Hidden Size = [9, 7, 9, 20, 9, 7, 9]\n",
      "Output Size = 9\n"
     ]
    },
    {
     "data": {
      "text/plain": [
       "'#490 Error: 0.0938413143157959'"
      ]
     },
     "metadata": {},
     "output_type": "display_data"
    },
    {
     "name": "stdout",
     "output_type": "stream",
     "text": [
      "(3, [40, 40], 9)\n",
      "Network Shape:\n",
      "Input Size = 3\n",
      "Hidden Size = [40, 40]\n",
      "Output Size = 9\n"
     ]
    },
    {
     "data": {
      "text/plain": [
       "'#499 Error: 0.008050124160945415'"
      ]
     },
     "metadata": {},
     "output_type": "display_data"
    },
    {
     "name": "stdout",
     "output_type": "stream",
     "text": [
      "(3, [33, 14, 33], 9)\n",
      "Network Shape:\n",
      "Input Size = 3\n",
      "Hidden Size = [33, 14, 33]\n",
      "Output Size = 9\n"
     ]
    },
    {
     "data": {
      "text/plain": [
       "'#499 Error: 0.013133243657648563'"
      ]
     },
     "metadata": {},
     "output_type": "display_data"
    },
    {
     "name": "stdout",
     "output_type": "stream",
     "text": [
      "(3, [36, 4, 4, 36], 9)\n",
      "Network Shape:\n",
      "Input Size = 3\n",
      "Hidden Size = [36, 4, 4, 36]\n",
      "Output Size = 9\n"
     ]
    },
    {
     "data": {
      "text/plain": [
       "'#499 Error: 0.04809170216321945'"
      ]
     },
     "metadata": {},
     "output_type": "display_data"
    },
    {
     "name": "stdout",
     "output_type": "stream",
     "text": [
      "(3, [3, 17, 3, 34, 3, 17, 3], 9)\n",
      "Network Shape:\n",
      "Input Size = 3\n",
      "Hidden Size = [3, 17, 3, 34, 3, 17, 3]\n",
      "Output Size = 9\n"
     ]
    },
    {
     "data": {
      "text/plain": [
       "'#499 Error: 0.11835401505231857'"
      ]
     },
     "metadata": {},
     "output_type": "display_data"
    },
    {
     "name": "stdout",
     "output_type": "stream",
     "text": [
      "(3, [90], 9)\n",
      "Network Shape:\n",
      "Input Size = 3\n",
      "Hidden Size = [90]\n",
      "Output Size = 9\n"
     ]
    },
    {
     "data": {
      "text/plain": [
       "'#499 Error: 0.019175900146365166'"
      ]
     },
     "metadata": {},
     "output_type": "display_data"
    },
    {
     "name": "stdout",
     "output_type": "stream",
     "text": [
      "(3, [45, 45], 9)\n",
      "Network Shape:\n",
      "Input Size = 3\n",
      "Hidden Size = [45, 45]\n",
      "Output Size = 9\n"
     ]
    },
    {
     "data": {
      "text/plain": [
       "'#434 Error: 0.006195578724145889'"
      ]
     },
     "metadata": {},
     "output_type": "display_data"
    },
    {
     "name": "stderr",
     "output_type": "stream",
     "text": [
      "IOPub message rate exceeded.\n",
      "The notebook server will temporarily stop sending output\n",
      "to the client in order to avoid crashing it.\n",
      "To change this limit, set the config variable\n",
      "`--NotebookApp.iopub_msg_rate_limit`.\n",
      "\n",
      "Current values:\n",
      "NotebookApp.iopub_msg_rate_limit=1000.0 (msgs/sec)\n",
      "NotebookApp.rate_limit_window=3.0 (secs)\n",
      "\n"
     ]
    },
    {
     "ename": "KeyboardInterrupt",
     "evalue": "",
     "output_type": "error",
     "traceback": [
      "\u001b[0;31m---------------------------------------------------------------------------\u001b[0m",
      "\u001b[0;31mKeyboardInterrupt\u001b[0m                         Traceback (most recent call last)",
      "\u001b[0;32m<ipython-input-127-fc92eb1e95e6>\u001b[0m in \u001b[0;36m<module>\u001b[0;34m\u001b[0m\n\u001b[1;32m     19\u001b[0m             \u001b[0mdh\u001b[0m\u001b[0;34m.\u001b[0m\u001b[0mupdate\u001b[0m\u001b[0;34m(\u001b[0m\u001b[0;34m\"#\"\u001b[0m \u001b[0;34m+\u001b[0m \u001b[0mstr\u001b[0m\u001b[0;34m(\u001b[0m\u001b[0mi\u001b[0m\u001b[0;34m)\u001b[0m \u001b[0;34m+\u001b[0m \u001b[0;34m\" Error: \"\u001b[0m \u001b[0;34m+\u001b[0m \u001b[0mstr\u001b[0m\u001b[0;34m(\u001b[0m\u001b[0merror\u001b[0m\u001b[0;34m)\u001b[0m\u001b[0;34m)\u001b[0m\u001b[0;34m\u001b[0m\u001b[0;34m\u001b[0m\u001b[0m\n\u001b[1;32m     20\u001b[0m \u001b[0;34m\u001b[0m\u001b[0m\n\u001b[0;32m---> 21\u001b[0;31m         \u001b[0mNN\u001b[0m\u001b[0;34m.\u001b[0m\u001b[0mtrain\u001b[0m\u001b[0;34m(\u001b[0m\u001b[0minput_train\u001b[0m\u001b[0;34m,\u001b[0m \u001b[0moutput_train\u001b[0m\u001b[0;34m)\u001b[0m\u001b[0;34m\u001b[0m\u001b[0;34m\u001b[0m\u001b[0m\n\u001b[0m\u001b[1;32m     22\u001b[0m     \u001b[0;31m#Saves the training results in a filed named \"Net 0\", \"Net 1\", etc.\u001b[0m\u001b[0;34m\u001b[0m\u001b[0;34m\u001b[0m\u001b[0;34m\u001b[0m\u001b[0m\n\u001b[1;32m     23\u001b[0m     \u001b[0mNN\u001b[0m\u001b[0;34m.\u001b[0m\u001b[0msaveWeights\u001b[0m\u001b[0;34m(\u001b[0m\u001b[0mmodel\u001b[0m \u001b[0;34m=\u001b[0m \u001b[0mNN\u001b[0m\u001b[0;34m,\u001b[0m \u001b[0mpath\u001b[0m \u001b[0;34m=\u001b[0m \u001b[0;34m\"saved_networks/Net \"\u001b[0m \u001b[0;34m+\u001b[0m \u001b[0mstr\u001b[0m\u001b[0;34m(\u001b[0m\u001b[0mnet_num\u001b[0m\u001b[0;34m)\u001b[0m\u001b[0;34m)\u001b[0m\u001b[0;34m;\u001b[0m\u001b[0;34m\u001b[0m\u001b[0;34m\u001b[0m\u001b[0m\n",
      "\u001b[0;32m~/Information-in-Language/Perceptron Networks/net_framework.py\u001b[0m in \u001b[0;36mtrain\u001b[0;34m(self, X, y)\u001b[0m\n\u001b[1;32m     68\u001b[0m                 \u001b[0mloss\u001b[0m \u001b[0;34m=\u001b[0m \u001b[0mself\u001b[0m\u001b[0;34m.\u001b[0m\u001b[0mcriterion\u001b[0m\u001b[0;34m(\u001b[0m\u001b[0moutput\u001b[0m\u001b[0;34m,\u001b[0m \u001b[0my\u001b[0m\u001b[0;34m)\u001b[0m\u001b[0;34m\u001b[0m\u001b[0;34m\u001b[0m\u001b[0m\n\u001b[1;32m     69\u001b[0m                 \u001b[0mloss\u001b[0m\u001b[0;34m.\u001b[0m\u001b[0mbackward\u001b[0m\u001b[0;34m(\u001b[0m\u001b[0;34m)\u001b[0m\u001b[0;34m\u001b[0m\u001b[0;34m\u001b[0m\u001b[0m\n\u001b[0;32m---> 70\u001b[0;31m                 \u001b[0mself\u001b[0m\u001b[0;34m.\u001b[0m\u001b[0moptimizer\u001b[0m\u001b[0;34m.\u001b[0m\u001b[0mstep\u001b[0m\u001b[0;34m(\u001b[0m\u001b[0;34m)\u001b[0m  \u001b[0;31m# Does the update\u001b[0m\u001b[0;34m\u001b[0m\u001b[0;34m\u001b[0m\u001b[0m\n\u001b[0m\u001b[1;32m     71\u001b[0m \u001b[0;34m\u001b[0m\u001b[0m\n\u001b[1;32m     72\u001b[0m     \u001b[0;32mdef\u001b[0m \u001b[0msaveWeights\u001b[0m\u001b[0;34m(\u001b[0m\u001b[0mself\u001b[0m\u001b[0;34m,\u001b[0m \u001b[0mmodel\u001b[0m\u001b[0;34m,\u001b[0m \u001b[0mpath\u001b[0m\u001b[0;34m)\u001b[0m\u001b[0;34m:\u001b[0m\u001b[0;34m\u001b[0m\u001b[0;34m\u001b[0m\u001b[0m\n",
      "\u001b[0;32m/opt/conda/lib/python3.8/site-packages/torch/autograd/grad_mode.py\u001b[0m in \u001b[0;36mdecorate_context\u001b[0;34m(*args, **kwargs)\u001b[0m\n\u001b[1;32m     13\u001b[0m         \u001b[0;32mdef\u001b[0m \u001b[0mdecorate_context\u001b[0m\u001b[0;34m(\u001b[0m\u001b[0;34m*\u001b[0m\u001b[0margs\u001b[0m\u001b[0;34m,\u001b[0m \u001b[0;34m**\u001b[0m\u001b[0mkwargs\u001b[0m\u001b[0;34m)\u001b[0m\u001b[0;34m:\u001b[0m\u001b[0;34m\u001b[0m\u001b[0;34m\u001b[0m\u001b[0m\n\u001b[1;32m     14\u001b[0m             \u001b[0;32mwith\u001b[0m \u001b[0mself\u001b[0m\u001b[0;34m:\u001b[0m\u001b[0;34m\u001b[0m\u001b[0;34m\u001b[0m\u001b[0m\n\u001b[0;32m---> 15\u001b[0;31m                 \u001b[0;32mreturn\u001b[0m \u001b[0mfunc\u001b[0m\u001b[0;34m(\u001b[0m\u001b[0;34m*\u001b[0m\u001b[0margs\u001b[0m\u001b[0;34m,\u001b[0m \u001b[0;34m**\u001b[0m\u001b[0mkwargs\u001b[0m\u001b[0;34m)\u001b[0m\u001b[0;34m\u001b[0m\u001b[0;34m\u001b[0m\u001b[0m\n\u001b[0m\u001b[1;32m     16\u001b[0m         \u001b[0;32mreturn\u001b[0m \u001b[0mdecorate_context\u001b[0m\u001b[0;34m\u001b[0m\u001b[0;34m\u001b[0m\u001b[0m\n\u001b[1;32m     17\u001b[0m \u001b[0;34m\u001b[0m\u001b[0m\n",
      "\u001b[0;32m/opt/conda/lib/python3.8/site-packages/torch/optim/adam.py\u001b[0m in \u001b[0;36mstep\u001b[0;34m(self, closure)\u001b[0m\n\u001b[1;32m     64\u001b[0m         \u001b[0;32mfor\u001b[0m \u001b[0mgroup\u001b[0m \u001b[0;32min\u001b[0m \u001b[0mself\u001b[0m\u001b[0;34m.\u001b[0m\u001b[0mparam_groups\u001b[0m\u001b[0;34m:\u001b[0m\u001b[0;34m\u001b[0m\u001b[0;34m\u001b[0m\u001b[0m\n\u001b[1;32m     65\u001b[0m             \u001b[0;32mfor\u001b[0m \u001b[0mp\u001b[0m \u001b[0;32min\u001b[0m \u001b[0mgroup\u001b[0m\u001b[0;34m[\u001b[0m\u001b[0;34m'params'\u001b[0m\u001b[0;34m]\u001b[0m\u001b[0;34m:\u001b[0m\u001b[0;34m\u001b[0m\u001b[0;34m\u001b[0m\u001b[0m\n\u001b[0;32m---> 66\u001b[0;31m                 \u001b[0;32mif\u001b[0m \u001b[0mp\u001b[0m\u001b[0;34m.\u001b[0m\u001b[0mgrad\u001b[0m \u001b[0;32mis\u001b[0m \u001b[0;32mNone\u001b[0m\u001b[0;34m:\u001b[0m\u001b[0;34m\u001b[0m\u001b[0;34m\u001b[0m\u001b[0m\n\u001b[0m\u001b[1;32m     67\u001b[0m                     \u001b[0;32mcontinue\u001b[0m\u001b[0;34m\u001b[0m\u001b[0;34m\u001b[0m\u001b[0m\n\u001b[1;32m     68\u001b[0m                 \u001b[0mgrad\u001b[0m \u001b[0;34m=\u001b[0m \u001b[0mp\u001b[0m\u001b[0;34m.\u001b[0m\u001b[0mgrad\u001b[0m\u001b[0;34m\u001b[0m\u001b[0;34m\u001b[0m\u001b[0m\n",
      "\u001b[0;32m/opt/conda/lib/python3.8/site-packages/torch/tensor.py\u001b[0m in \u001b[0;36mgrad\u001b[0;34m(self)\u001b[0m\n\u001b[1;32m    737\u001b[0m                           \u001b[0;34m\"non-leaf Tensor by mistake, make sure you access the leaf Tensor instead. See \"\u001b[0m\u001b[0;34m\u001b[0m\u001b[0;34m\u001b[0m\u001b[0m\n\u001b[1;32m    738\u001b[0m                           \"github.com/pytorch/pytorch/pull/30531 for more informations.\", stacklevel=2)\n\u001b[0;32m--> 739\u001b[0;31m         \u001b[0;32mreturn\u001b[0m \u001b[0mself\u001b[0m\u001b[0;34m.\u001b[0m\u001b[0m_grad\u001b[0m\u001b[0;34m\u001b[0m\u001b[0;34m\u001b[0m\u001b[0m\n\u001b[0m\u001b[1;32m    740\u001b[0m \u001b[0;34m\u001b[0m\u001b[0m\n\u001b[1;32m    741\u001b[0m     \u001b[0;34m@\u001b[0m\u001b[0mgrad\u001b[0m\u001b[0;34m.\u001b[0m\u001b[0msetter\u001b[0m\u001b[0;34m\u001b[0m\u001b[0;34m\u001b[0m\u001b[0m\n",
      "\u001b[0;31mKeyboardInterrupt\u001b[0m: "
     ]
    }
   ],
   "source": [
    "#Array of losses over training period for each network\n",
    "for net_num, shape in enumerate(network_shapes):\n",
    "    shuffle()\n",
    "    print(shape)\n",
    "    print('Network Shape:',flush = True)\n",
    "    print('Input Size = ' + str(shape[0]), flush = True)\n",
    "    print('Hidden Size = ' + str(shape[1]), flush = True)\n",
    "    print('Output Size = ' + str(shape[2]), flush = True)\n",
    "    NN = Neural_Network(inputSize = shape[0], outputSize = shape[2],\n",
    "                        hiddenSize = shape[1] , learning_rate = rate)\n",
    "    \n",
    "\n",
    "    for i in range(num_iters):\n",
    "        #Calculating l1 error\n",
    "        error = NN.l1error(output_train, NN(input_train))\n",
    "        if i == 0: \n",
    "            dh = display(\"#\" + str(i) + \" Error: \" + str(error), display_id=True)\n",
    "        else:\n",
    "            dh.update(\"#\" + str(i) + \" Error: \" + str(error))\n",
    "            \n",
    "        NN.train(input_train, output_train)\n",
    "    #Saves the training results in a filed named \"Net 0\", \"Net 1\", etc. \n",
    "    NN.saveWeights(model = NN, path = \"saved_networks/Net \" + str(net_num));"
   ]
  },
  {
   "cell_type": "code",
   "execution_count": 131,
   "metadata": {},
   "outputs": [
    {
     "name": "stdout",
     "output_type": "stream",
     "text": [
      "Network Shape:\n",
      "Input Size = 3\n",
      "Hidden Size = [10]\n",
      "Output Size = 9\n",
      "The validation error is: 0.13094303011894226\n",
      "The maximum error is:0.99999857\n",
      "Network Shape:\n",
      "Input Size = 3\n",
      "Hidden Size = [5, 5]\n",
      "Output Size = 9\n",
      "The validation error is: 0.11989116668701172\n",
      "The maximum error is:0.8715635\n",
      "Network Shape:\n",
      "Input Size = 3\n",
      "Hidden Size = [3, 4, 3]\n",
      "Output Size = 9\n",
      "The validation error is: 0.12396591156721115\n",
      "The maximum error is:1.0\n",
      "Network Shape:\n",
      "Input Size = 3\n",
      "Hidden Size = [20]\n",
      "Output Size = 9\n",
      "The validation error is: 0.15149466693401337\n",
      "The maximum error is:1.0\n",
      "Network Shape:\n",
      "Input Size = 3\n",
      "Hidden Size = [10, 10]\n",
      "Output Size = 9\n",
      "The validation error is: 0.1511283814907074\n",
      "The maximum error is:1.0\n",
      "Network Shape:\n",
      "Input Size = 3\n",
      "Hidden Size = [4, 12, 4]\n",
      "Output Size = 9\n",
      "The validation error is: 0.1130281463265419\n",
      "The maximum error is:0.92116666\n",
      "Network Shape:\n",
      "Input Size = 3\n",
      "Hidden Size = [5, 5, 5, 5]\n",
      "Output Size = 9\n",
      "The validation error is: 0.13028186559677124\n",
      "The maximum error is:0.99998915\n",
      "Network Shape:\n",
      "Input Size = 3\n",
      "Hidden Size = [4, 4, 4, 4, 4]\n",
      "Output Size = 9\n",
      "The validation error is: 0.12910252809524536\n",
      "The maximum error is:0.99997437\n",
      "Network Shape:\n",
      "Input Size = 3\n",
      "Hidden Size = [30]\n",
      "Output Size = 9\n",
      "The validation error is: 0.14888496696949005\n",
      "The maximum error is:1.0\n",
      "Network Shape:\n",
      "Input Size = 3\n",
      "Hidden Size = [15, 15]\n",
      "Output Size = 9\n",
      "The validation error is: 0.15995095670223236\n",
      "The maximum error is:1.0\n",
      "Network Shape:\n",
      "Input Size = 3\n",
      "Hidden Size = [10, 10, 10]\n",
      "Output Size = 9\n",
      "The validation error is: 0.16006843745708466\n",
      "The maximum error is:1.0\n",
      "Network Shape:\n",
      "Input Size = 3\n",
      "Hidden Size = [12, 3, 3, 12]\n",
      "Output Size = 9\n",
      "The validation error is: 0.148649662733078\n",
      "The maximum error is:1.0\n",
      "Network Shape:\n",
      "Input Size = 3\n",
      "Hidden Size = [4, 5, 4, 4, 4, 5, 4]\n",
      "Output Size = 9\n",
      "The validation error is: 0.11231570690870285\n",
      "The maximum error is:0.9648523\n",
      "Network Shape:\n",
      "Input Size = 3\n",
      "Hidden Size = [40]\n",
      "Output Size = 9\n",
      "The validation error is: 0.179346963763237\n",
      "The maximum error is:1.0\n",
      "Network Shape:\n",
      "Input Size = 3\n",
      "Hidden Size = [20, 20]\n",
      "Output Size = 9\n",
      "The validation error is: 0.1803685426712036\n",
      "The maximum error is:1.0\n",
      "Network Shape:\n",
      "Input Size = 3\n",
      "Hidden Size = [12, 16, 12]\n",
      "Output Size = 9\n",
      "The validation error is: 0.18507206439971924\n",
      "The maximum error is:1.0\n",
      "Network Shape:\n",
      "Input Size = 3\n",
      "Hidden Size = [4, 16, 16, 4]\n",
      "Output Size = 9\n",
      "The validation error is: 0.12874677777290344\n",
      "The maximum error is:0.999979\n",
      "Network Shape:\n",
      "Input Size = 3\n",
      "Hidden Size = [5, 7, 5, 6, 5, 7, 5]\n",
      "Output Size = 9\n",
      "The validation error is: 0.13018378615379333\n",
      "The maximum error is:0.95519733\n",
      "Network Shape:\n",
      "Input Size = 3\n",
      "Hidden Size = [50]\n",
      "Output Size = 9\n",
      "The validation error is: 0.1683327704668045\n",
      "The maximum error is:1.0\n",
      "Network Shape:\n",
      "Input Size = 3\n",
      "Hidden Size = [25, 25]\n",
      "Output Size = 9\n",
      "The validation error is: 0.17887195944786072\n",
      "The maximum error is:1.0\n",
      "Network Shape:\n",
      "Input Size = 3\n",
      "Hidden Size = [20, 10, 20]\n",
      "Output Size = 9\n",
      "The validation error is: 0.18904639780521393\n",
      "The maximum error is:0.99999726\n",
      "Network Shape:\n",
      "Input Size = 3\n",
      "Hidden Size = [11, 14, 14, 11]\n",
      "Output Size = 9\n",
      "The validation error is: 0.16475257277488708\n",
      "The maximum error is:0.99990714\n",
      "Network Shape:\n",
      "Input Size = 3\n",
      "Hidden Size = [8, 6, 8, 6, 8, 6, 8]\n",
      "Output Size = 9\n",
      "The validation error is: 0.1275702267885208\n",
      "The maximum error is:0.96\n",
      "Network Shape:\n",
      "Input Size = 3\n",
      "Hidden Size = [60]\n",
      "Output Size = 9\n",
      "The validation error is: 0.18487173318862915\n",
      "The maximum error is:1.0\n",
      "Network Shape:\n",
      "Input Size = 3\n",
      "Hidden Size = [30, 30]\n",
      "Output Size = 9\n",
      "The validation error is: 0.21559220552444458\n",
      "The maximum error is:0.9999999\n",
      "Network Shape:\n",
      "Input Size = 3\n",
      "Hidden Size = [3, 54, 3]\n",
      "Output Size = 9\n",
      "The validation error is: 0.13284464180469513\n",
      "The maximum error is:0.99998486\n",
      "Network Shape:\n",
      "Input Size = 3\n",
      "Hidden Size = [13, 17, 17, 13]\n",
      "Output Size = 9\n",
      "The validation error is: 0.16273029148578644\n",
      "The maximum error is:1.0\n",
      "Network Shape:\n",
      "Input Size = 3\n",
      "Hidden Size = [7, 6, 7, 20, 7, 6, 7]\n",
      "Output Size = 9\n",
      "The validation error is: 0.11279164254665375\n",
      "The maximum error is:0.786537\n",
      "Network Shape:\n",
      "Input Size = 3\n",
      "Hidden Size = [70]\n",
      "Output Size = 9\n",
      "The validation error is: 0.1853913813829422\n",
      "The maximum error is:1.0\n",
      "Network Shape:\n",
      "Input Size = 3\n",
      "Hidden Size = [35, 35]\n",
      "Output Size = 9\n",
      "The validation error is: 0.21696263551712036\n",
      "The maximum error is:0.9999989\n",
      "Network Shape:\n",
      "Input Size = 3\n",
      "Hidden Size = [21, 28, 21]\n",
      "Output Size = 9\n",
      "The validation error is: 0.19117388129234314\n",
      "The maximum error is:1.0\n",
      "Network Shape:\n",
      "Input Size = 3\n",
      "Hidden Size = [6, 29, 29, 6]\n",
      "Output Size = 9\n",
      "The validation error is: 0.1569526046514511\n",
      "The maximum error is:0.99999845\n",
      "Network Shape:\n",
      "Input Size = 3\n",
      "Hidden Size = [9, 7, 9, 20, 9, 7, 9]\n",
      "Output Size = 9\n",
      "The validation error is: 0.13267181813716888\n",
      "The maximum error is:0.9634715\n",
      "Network Shape:\n",
      "Input Size = 3\n",
      "Hidden Size = [80]\n",
      "Output Size = 9\n",
      "The validation error is: 0.2104320526123047\n",
      "The maximum error is:1.0\n",
      "Network Shape:\n",
      "Input Size = 3\n",
      "Hidden Size = [40, 40]\n",
      "Output Size = 9\n",
      "The validation error is: 0.18317466974258423\n",
      "The maximum error is:1.0\n",
      "Network Shape:\n",
      "Input Size = 3\n",
      "Hidden Size = [33, 14, 33]\n",
      "Output Size = 9\n",
      "The validation error is: 0.18347781896591187\n",
      "The maximum error is:1.0\n",
      "Network Shape:\n",
      "Input Size = 3\n",
      "Hidden Size = [36, 4, 4, 36]\n",
      "Output Size = 9\n",
      "The validation error is: 0.13403640687465668\n",
      "The maximum error is:0.99246997\n",
      "Network Shape:\n",
      "Input Size = 3\n",
      "Hidden Size = [3, 17, 3, 34, 3, 17, 3]\n",
      "Output Size = 9\n",
      "The validation error is: 0.11250483989715576\n",
      "The maximum error is:0.811586\n",
      "Network Shape:\n",
      "Input Size = 3\n",
      "Hidden Size = [90]\n",
      "Output Size = 9\n",
      "The validation error is: 0.21792913973331451\n",
      "The maximum error is:1.0\n",
      "Network Shape:\n",
      "Input Size = 3\n",
      "Hidden Size = [45, 45]\n",
      "Output Size = 9\n",
      "The validation error is: 0.23398299515247345\n",
      "The maximum error is:0.9999999\n",
      "Network Shape:\n",
      "Input Size = 3\n",
      "Hidden Size = [28, 34, 28]\n",
      "Output Size = 9\n",
      "The validation error is: 0.16125811636447906\n",
      "The maximum error is:0.9994649\n",
      "Network Shape:\n",
      "Input Size = 3\n",
      "Hidden Size = [28, 17, 17, 28]\n",
      "Output Size = 9\n",
      "The validation error is: 0.21464300155639648\n",
      "The maximum error is:0.9999999\n",
      "Network Shape:\n",
      "Input Size = 3\n",
      "Hidden Size = [3, 30, 3, 18, 3, 30, 3]\n",
      "Output Size = 9\n",
      "Network Shape:\n",
      "Input Size = 3\n",
      "Hidden Size = [100]\n",
      "Output Size = 9\n",
      "Network Shape:\n",
      "Input Size = 3\n",
      "Hidden Size = [50, 50]\n",
      "Output Size = 9\n",
      "Network Shape:\n",
      "Input Size = 3\n",
      "Hidden Size = [5, 90, 5]\n",
      "Output Size = 9\n",
      "Network Shape:\n",
      "Input Size = 3\n",
      "Hidden Size = [38, 12, 12, 38]\n",
      "Output Size = 9\n",
      "Network Shape:\n",
      "Input Size = 3\n",
      "Hidden Size = [4, 12, 4, 60, 4, 12, 4]\n",
      "Output Size = 9\n",
      "Network Shape:\n",
      "Input Size = 3\n",
      "Hidden Size = [110]\n",
      "Output Size = 9\n",
      "Network Shape:\n",
      "Input Size = 3\n",
      "Hidden Size = [55, 55]\n",
      "Output Size = 9\n",
      "Network Shape:\n",
      "Input Size = 3\n",
      "Hidden Size = [32, 46, 32]\n",
      "Output Size = 9\n",
      "Network Shape:\n",
      "Input Size = 3\n",
      "Hidden Size = [34, 21, 21, 34]\n",
      "Output Size = 9\n",
      "Network Shape:\n",
      "Input Size = 3\n",
      "Hidden Size = [13, 18, 13, 22, 13, 18, 13]\n",
      "Output Size = 9\n",
      "Network Shape:\n",
      "Input Size = 3\n",
      "Hidden Size = [120]\n",
      "Output Size = 9\n",
      "Network Shape:\n",
      "Input Size = 3\n",
      "Hidden Size = [60, 60]\n",
      "Output Size = 9\n",
      "Network Shape:\n",
      "Input Size = 3\n",
      "Hidden Size = [7, 106, 7]\n",
      "Output Size = 9\n",
      "Network Shape:\n",
      "Input Size = 3\n",
      "Hidden Size = [35, 25, 25, 35]\n",
      "Output Size = 9\n",
      "Network Shape:\n",
      "Input Size = 3\n",
      "Hidden Size = [6, 40, 6, 16, 6, 40, 6]\n",
      "Output Size = 9\n"
     ]
    }
   ],
   "source": [
    "output_file = []\n",
    "for net_num, shape in enumerate(network_shapes):\n",
    "    try:\n",
    "        shuffle()\n",
    "        row = []\n",
    "        print('Network Shape:',flush = True)\n",
    "        print('Input Size = ' + str(shape[0]), flush = True)\n",
    "        print('Hidden Size = ' + str(shape[1]), flush = True)\n",
    "        print('Output Size = ' + str(shape[2]), flush = True)\n",
    "        # Loading the network we trained in the prev. section\n",
    "\n",
    "        NN = Neural_Network(inputSize = shape[0], outputSize = shape[2],\n",
    "                            hiddenSize = shape[1] , learning_rate = rate)\n",
    "        NN.load_state_dict(torch.load(\"saved_networks/Net \" + str(net_num)))\n",
    "\n",
    "        validation_error = NN.l1error(output_test, NN(input_test))\n",
    "\n",
    "        max_error = np.max(np.ndarray.flatten(np.abs((output_test - NN(input_test)).detach().numpy())))\n",
    "        print(\"The validation error is: \" + str(validation_error), flush = True)  \n",
    "        print(\"The maximum error is:\" + str(max_error), flush = True)\n",
    "        row.append(shape)\n",
    "        row.append(validation_error)\n",
    "        output_file.append(row)\n",
    "    except Exception:\n",
    "        pass\n",
    "\n",
    "\n",
    "    with open('validation_errors.json', 'w') as f:\n",
    "        json.dump(output_file, f)\n"
   ]
  },
  {
   "cell_type": "code",
   "execution_count": null,
   "metadata": {},
   "outputs": [],
   "source": []
  }
 ],
 "metadata": {
  "kernelspec": {
   "display_name": "Python 3",
   "language": "python",
   "name": "python3"
  },
  "varInspector": {
   "cols": {
    "lenName": 16,
    "lenType": 16,
    "lenVar": 40
   },
   "kernels_config": {
    "python": {
     "delete_cmd_postfix": "",
     "delete_cmd_prefix": "del ",
     "library": "var_list.py",
     "varRefreshCmd": "print(var_dic_list())"
    },
    "r": {
     "delete_cmd_postfix": ") ",
     "delete_cmd_prefix": "rm(",
     "library": "var_list.r",
     "varRefreshCmd": "cat(var_dic_list()) "
    }
   },
   "position": {
    "height": "277px",
    "left": "1061px",
    "right": "20px",
    "top": "120px",
    "width": "350px"
   },
   "types_to_exclude": [
    "module",
    "function",
    "builtin_function_or_method",
    "instance",
    "_Feature"
   ],
   "window_display": false
  }
 },
 "nbformat": 4,
 "nbformat_minor": 2
}
